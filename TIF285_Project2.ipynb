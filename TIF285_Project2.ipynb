{
 "cells": [
  {
   "cell_type": "markdown",
   "metadata": {},
   "source": [
    "# Project 2: Newton vs the machine: <br/>*solving the chaotic three-body problem using deep neural networks*\n",
    "## Learning from data [TIF285], Chalmers, Fall 2023\n",
    "\n",
    "Last revised: 15-Sep-2023 by Christian Forssén [christian.forssen@chalmers.se]"
   ]
  },
  {
   "cell_type": "markdown",
   "metadata": {},
   "source": [
    "## Instructions"
   ]
  },
  {
   "cell_type": "markdown",
   "metadata": {},
   "source": [
    "- See deadline on the course web page\n",
    "- This project is performed in groups of two students. \n",
    "- The second part of the project is optional. See examination rules on the course web page.\n",
    "- Hand-in your written report and your solution source code via Canvas. \n",
    "- Please also upload your ANN model with the trained parameters as `myNN.keras` using the keras `save_model` method: `tf.keras.models.save_model(model, 'myNN.keras')`, which employs the native Keras file format."
   ]
  },
  {
   "cell_type": "markdown",
   "metadata": {},
   "source": [
    "### Written report\n",
    "- Page limit: 6 pages (excluding title page and list of references). 3 extra pages are allowed when doing also the optional extra task.\n",
    "- Give a short description of the nature of the problem and the methods you have used.\n",
    "- Include your results either in figure form or in a table. All tables and figures should have relevant captions and labels on the axes.\n",
    "- Try to give an interpretation of you results.\n",
    "- Upload the source code of your program as a separate file (.ipynb or .py). Comment your program properly."
   ]
  },
  {
   "cell_type": "markdown",
   "metadata": {},
   "source": [
    "### Learning goals:\n",
    "* Apply deep neural networks to build an emulator for a physics problem that is difficult and costly to solve numerically.\n",
    "* Get familiar with [tensorflow](https://www.tensorflow.org/), the popular open-source library to train ML models created by the Google Brain team.\n",
    "* Get experience with some diagnostics used in the training of neural networks. \n",
    "* Understand the difficulties and choices involved when training a deep neural network.\n",
    "* This is a less-guided set of tasks and you will have to put together ideas and tools we've discussed.\n",
    "* Reproduce scientific results from a published paper."
   ]
  },
  {
   "cell_type": "markdown",
   "metadata": {},
   "source": [
    "## Main task\n",
    "The overall project goal is to reproduce various results in a paper: [*Newton vs the machine: solving the chaotic three-body problem using deep neural networks*](https://arxiv.org/abs/1910.07291) by Philip G. Breen, Christopher N. Foley, Tjarda Boekholt, Simon Portegies Zwart.\n",
    "\n",
    "The authors have graciously agreed that we use the raw data from their study for this project (but please don't distribute any further)."
   ]
  },
  {
   "cell_type": "markdown",
   "metadata": {},
   "source": [
    "### Physical problem"
   ]
  },
  {
   "cell_type": "markdown",
   "metadata": {},
   "source": [
    "In this project we are studying the motion of three bodies of equal mass that move under the mutual influence of classical gravitational forces. Due to the system's chaotic nature, the solution to this problem for a given initialization can only be found by performing iterative numerical calculations that have unpredictable and potentially very large computational cost. \n",
    "\n",
    "Here you will demonstrate that a deep artificial neural network (ANN) is able to learn the solutions to the equations of motion from a set of numerical training data. This ANN can then provide good approximations for new initial conditions at a predictable (and small) computational cost."
   ]
  },
  {
   "cell_type": "markdown",
   "metadata": {},
   "source": [
    "The training data that we will be using was generated with a state-of-the-art numerical code `Brutus` [[Boekholt, T., Portegies Zwart, S. On the reliability of N-body simulations. Comput. Astrophys. 2, 2 (2015).](https://doi.org/10.1186/s40668-014-0005-3)]. The run time of that code for the trajectories studied here ranges from minutes up to hours. In the end, it will therefore be relevant to quantify what is the computational cost of making a prediction with our constructed ANN."
   ]
  },
  {
   "cell_type": "markdown",
   "metadata": {},
   "source": [
    "### Initial condition and choice of coordinates\n",
    "- We work in the the center-of-mass (CM) frame and only consider the scenario in which the three masses start from rest.\n",
    "- It can be shown that, without loss of generality, it is always possible to choose a coordinate system such that the three particles $p_1, p_2, p_3$ move in a plane so that just $(x,y)$ coordinates are needed.\n",
    "- Furthermore, the $(x,y)$ coordinates can be chosen and scaled such that particle 1 starts in position $(1,0)$ and the initial position of particle 2 is located in the second quantile ($x<0$, $y>0$).\n",
    "- Since we are in the CM frame and our system consists of three equal masses we will always have $x_1+x_2+x_3=0$ and $y_1+y_2+y_3=0$. Consequently, we can determine the position of particle 3 from knowledge of the positions of particles 1 and 2.\n",
    "\n",
    "See also Fig. 1 in the paper."
   ]
  },
  {
   "cell_type": "markdown",
   "metadata": {},
   "source": [
    "### Data\n",
    "The data that you should use is made available as a compressed numpy file on the Canvas course page. Note that, due to its size, it is not included in the `tif285` git repo.\n",
    "\n",
    "Navigate to Files > Project2  and download `data_project2.npz`."
   ]
  },
  {
   "cell_type": "code",
   "execution_count": 285,
   "metadata": {},
   "outputs": [],
   "source": [
    "# Load modules\n",
    "import numpy as np\n",
    "import tensorflow as tf\n",
    "from tensorflow import keras\n",
    "import matplotlib.pyplot as plt\n",
    "from sklearn.model_selection import train_test_split\n",
    "\n",
    "# Add your own import statements if needed"
   ]
  },
  {
   "cell_type": "code",
   "execution_count": 223,
   "metadata": {},
   "outputs": [
    {
     "name": "stdout",
     "output_type": "stream",
     "text": [
      "(9000, 1000, 9)\n",
      "1377\n",
      "(7623, 1000, 9)\n"
     ]
    }
   ],
   "source": [
    "# Load and unpack a compressed npy array\n",
    "load_data = np.load('data_project2.npz')\n",
    "data = load_data['arr_0']\n",
    "print(data.shape)\n",
    "stuck = []\n",
    "\n",
    "for idx in range(9000):\n",
    "    if np.all(data[idx,100:,1])==0 and np.all(data[idx,100:,2])==0:\n",
    "        stuck.append(idx)\n",
    "print(len(stuck))\n",
    "cleaned_data = np.delete(data, stuck, axis=0)\n",
    "print(cleaned_data.shape)\n",
    "\n",
    "#idx = 2\n",
    "#fig,ax = plt.subplots(1,1)\n",
    "#ax.plot(data[idx,:,1],data[idx,:,2])\n",
    "#ax.plot(data[idx,-1,1],data[idx,-1,2],'o')\n",
    "#ax.plot(data[idx,:,3],data[idx,:,4])\n",
    "#ax.plot(data[idx,-1,3],data[idx,-1,4],'o')\n",
    "#ax.plot(-data[idx,:,1]-data[idx,:,3],-data[idx,:,2]-data[idx,:,4])\n",
    "#ax.plot(-data[idx,-1,1]-data[idx,-1,3],-data[idx,-1,2]-data[idx,-1,4],'o')"
   ]
  },
  {
   "cell_type": "markdown",
   "metadata": {},
   "source": [
    "- The first axis labels the 9000 data samples.\n",
    "- The second axis is the 1000 time steps, which corresponds to 3.9 time units. The original data is composed of 2561 time steps, reaching 10 time units, but as discussed in the paper the training of the ANN works better for the somewhat shorter time interval.\n",
    "- The nine columns of the last axis correspond to: $[t, x_1, y_1, x_2, y_2, v_{x,1}, v_{y,1}, v_{x,2}, v_{y,2}]$ (note again that the position of particle 3 can be obtained from the positions of particles 1 and 2). The velocity data is only used in the extra task.\n",
    "- Some of the trajectories contain collisions such that the positions of the particles get stuck at (0, 0). Check the data to find those trajectories and remove them before training your model.\n",
    "- Note that the trajectories are represented by data points in sets of 1000 (time steps). While creating batches of data, make sure you are not mixing part of the data from one trajectory with a different trajectory."
   ]
  },
  {
   "cell_type": "markdown",
   "metadata": {},
   "source": [
    "### List of tasks\n",
    "1. Download and load the pre-trained ANN from the paper (see below) and construct your own ANN using the provided data. Compare the complexity (number of trainable parameters) in the pre-trained versus your own ANN.\n",
    "1. Show the Mean Absolute Error (MAE) vs epoch from the training of your own ANN (as in Fig. 3 of the paper). I.e. you should show both the MAE metric on the training and the validation data.\n",
    "1. Check the accuracy of the pre-trained ANN by showing some trajectories and the ANN prediction as in Fig. 4 of the paper. Add also the trajectory of your ANN and comment on its performance. (Note that you should not expect your own ANN to perform as well as the pre-trained one. In addition, the trajectories that are shown in the paper seem to be ones for which the model works very well).\n",
    "1. Check the computational cost of making a prediction with the ANN. You will find that it is much shorter than the numerical integration performed by `Brutus` (which according to the reference takes minutes to hours for finding a trajectory).\n",
    "1. Having access to these ANN emulators you can explore the chaotic aspect of this motion by creating a hundred different trajectories from a slightly disturbed initial condition. Try to reproduce Fig. 5 in the paper (both with the pre-trained and your own ANN)."
   ]
  },
  {
   "cell_type": "markdown",
   "metadata": {},
   "source": [
    "### Suggestions for how to proceed:\n",
    "* Follow the lead of the demo notebook for using tensorflow / keras (plus see the hints below).\n",
    "* First download and load the data set and the ANN from the paper (both available on the Canvas course page. Navigate to Files > Project2; see hint below)\n",
    "* It is suggested (but not required) to create helper functions (see hints below): \n",
    "  * `get_data` for extracting a trajectory (positions of particle 1 as a function of the discrete time) from the data; \n",
    "  * `get_trajectories` for generating the positions of all particles from a prediction output that contains the arrays of the first two particles' positions; \n",
    "  * `plot_trajectories` for plotting a trajectory.\n",
    "* When creating your own ANN it is suggested that you first design a smaller one than in the paper (e.g., using five dense layers with 64 neurons in each) and analyse how it performs by looking at the training vs validation error. The creation of a large network with ten layers and 128 nodes per layer is optional (and might require more cpu-hours for training).\n",
    "* Try first with the `relu` activation function and the `Adam` optimizer with a learning rate of 0.001 and moments of 0.5 (these hyper-parameters can easily be changed if you want; see hints below). \n",
    "    - The choice of optimizer  and hyper-parameters such as learning rate can certainly influence your results. For the interested, an extensive guide with open-source experimental results is published here: https://arxiv.org/abs/2007.01547.\n",
    "* Use 90% of the data for training and 10% for validation. You probably need at least hundred epochs for training and it is suggested to split the data into 10-100 batches (see hints below)."
   ]
  },
  {
   "cell_type": "markdown",
   "metadata": {},
   "source": [
    "### Comments and hints\n",
    "* Download the pre-trained ANN model (<a href=\"https://chalmers.instructure.com/files/1674480/download?download_frd=1\" title=\"Breen_NN_project2.h5\" class=\"instructure_file_link\">Breen_NN_project2.h5</a>) and load it with: `pre_trained_model = keras.models.load_model(\"Breen_NN_project2.h5\")`. This file should also be included in the gzipped tarball that contains the project 2 files.\n",
    "* The ANN input should be an array with three elements: $[t,x_2,y_2]$, where the last two will be the initial position of particle 2 and the first one is the time step for which the particle positions should be predicted. Remember that particle 1 always starts in $(1,0)$. \n",
    "* Input data corresponding to a single trajectory is then of shape $1000 \\times 3$ where the first column contains the time steps while the $x_2,y_2$ columns are repetitions of the initial position.\n",
    "* I.e., the inputs to the `tensorflow` network is a tensor with three columns where the second and third columns have values that are repeated (with values of the initial position at [t=0]) for all the rows corresponding to a single trajectory.\n",
    "* The output should be an array with four elements $[x_1,y_1,x_2,y_2]$ that corresponds to the positions of particles 1 and 2 at the time step $t$ that was given in the first position of the input. Again, we can consider a tensor (batch) of outputs corresponding, e.g., to a full trajectory.\n",
    "* As mentioned, some of the trajectories contain collisions such that the positions of the particles get stuck at (0, 0). Check the data to find those trajectories and remove them before training your model.\n",
    "* The data can be turned into a `tensorflow` dataset using: `dataset = tf.data.Dataset.from_tensor_slices((x, y))`, where `x` and `y` are input and output data, respectively (you might possibly need to reshape using `x.reshape(-1, 3)` and `y.reshape(-1, 4)`)\n",
    "* Having created a dataset, e.g. `train_dataset`, you can make batches (e.g. with batchsize 5000) with `train_dataset = train_dataset.batch(5000)`. The same should then be done for the validation data. As mentioned, the trajectories are represented by data points in sets of 1000 (time steps). While creating batches of data, make sure you are not mixing part of the data from one trajectory with a different trajectory. \n",
    "* When compiling a `tensorflow` model, with `model.compile()`, the Adam optimizer can be specified via the argument `optimizer=keras.optimizers.Adam(0.001, 0.5, 0.5)`\n",
    "* Furthermore, the loss function can be chosen using the argument `loss=keras.losses.MeanAbsoluteError()`\n",
    "* Fitting the model for 100 epochs with specified training and validation data sets can be performed with: `model.fit(train_dataset, epochs=100, validation_data = val_dataset)`\n",
    "* Given the cost of training the network with all data, it is not required to make extensive tests of tuning the hyperparameters.\n",
    "* More exact timing of a function can be measured using [\"Jupyter notebook magic\"](https://towardsdatascience.com/the-top-5-magic-commands-for-jupyter-notebooks-2bf0c5ae4bb8) by putting the command to be measured in a notebook cell that starts with `%timeit`. This will run the cell many times and report the mean and standard deviation of the evaluation time."
   ]
  },
  {
   "cell_type": "markdown",
   "metadata": {},
   "source": [
    "#### Helper function docstrings\n",
    "The following are just suggestions. You are allowed to construct a solution using your own helper functions."
   ]
  },
  {
   "cell_type": "code",
   "execution_count": 195,
   "metadata": {},
   "outputs": [],
   "source": [
    "def get_data(idx):\n",
    "    \"\"\"\n",
    "    Get one training instance from the data set at the index idx. \n",
    "    \n",
    "    The data is assumed to be in an array `data`.\n",
    "    \n",
    "    Args:\n",
    "        idx (int): An integer specifying which of the training example to fetch\n",
    "        \n",
    "    Returns:\n",
    "        x (array): An array of shape (time_steps, 3) which specifies the input to\n",
    "                   the neural network. The first column is the time and the second\n",
    "                   and third columns specify the (x, y) coordinates of the second\n",
    "                   particle. Note that the first particle is always assumed to be\n",
    "                   at (1, 0) and the third particle can be inferred from the first\n",
    "                   and second particle's position.\n",
    "                   \n",
    "        y (array): An array of shape (time_steps, 4) which specifies the output that \n",
    "                   is expected from the neural network.\n",
    "                   \n",
    "                   The first two columns specify the (x, y) coordinates of the first\n",
    "                   particles and the next two columns give the coordinates of the \n",
    "                   second particle for the specified time (length of the columns).\n",
    "                   The third particles position can be inferred from the first\n",
    "                   and second particle's position.\n",
    "    \"\"\"\n",
    "    x = np.zeros_like(cleaned_data[idx,:,0:3])\n",
    "    x[:,0] = cleaned_data[idx,:,0]\n",
    "    x[:,1] = cleaned_data[idx,0,3]\n",
    "    x[:,2] = cleaned_data[idx,0,4]\n",
    "\n",
    "    y = np.zeros_like(cleaned_data[idx,:,1:5])\n",
    "    y[:,0:4] = cleaned_data[idx,:,1:5]\n",
    "\n",
    "    return x, y"
   ]
  },
  {
   "cell_type": "code",
   "execution_count": 187,
   "metadata": {},
   "outputs": [],
   "source": [
    "def get_trajectories(pred):\n",
    "    \"\"\"\n",
    "    Gets the trajectories from a predicted output pred.\n",
    "    \n",
    "    Args:\n",
    "        pred (array): An array of shape (N, 4) where N is the number of time\n",
    "                      steps. The four columns give the positions of the particles\n",
    "                      1 and 2 for all the time steps.\n",
    "    Returns:\n",
    "        p1, p2, p3 (tuple of arrays): Three arrays of dimensions (N, 2) where N is the number \n",
    "                             of time steps and the two columns for each array give \n",
    "                             the positions of the three particles (p1, p2, p3)\n",
    "    \"\"\"\n",
    "    p1 = pred[:,[0,1]]\n",
    "    p2 = pred[:,[2,3]]\n",
    "    \n",
    "    x3 = - p1[:,0] - p2[:,0]\n",
    "    y3 = - p1[:,1] - p2[:,1]\n",
    "    p3 = np.array([x3,y3])\n",
    "    p3 = p3.T\n",
    "    \n",
    "    return p1, p2, p3\n"
   ]
  },
  {
   "cell_type": "code",
   "execution_count": 188,
   "metadata": {},
   "outputs": [],
   "source": [
    "def plot_trajectories(p1, p2, p3, ax=None, **kwargs):\n",
    "    \"\"\"\n",
    "    Plots trajectories for points p1, p2, p3\n",
    "    \n",
    "    Args:\n",
    "        p1, p2, p3 (array): Three arrays each of shape (n, 2) where n is the number\n",
    "                            of time steps. Each array is the (x, y) position for the\n",
    "                            particles\n",
    "        ax (axis object): Default None, in which case a new axis object is created.\n",
    "        kwargs (dict): Optional keyword arguments for plotting\n",
    "        \n",
    "    Returns:\n",
    "        ax: Axes object\n",
    "    \"\"\"\n",
    "    if ax==None:\n",
    "        fig,ax = plt.subplots(1,1)\n",
    "\n",
    "    ax.plot(p1[:,0],p1[:,1],'b')\n",
    "    ax.plot(p1[-1,0],p1[-1,1],'bo')\n",
    "    ax.plot(p2[:,0],p2[:,1],'r')\n",
    "    ax.plot(p2[-1,0],p2[-1,1],'ro')\n",
    "    ax.plot(p3[:,0],p3[:,1],'g')\n",
    "    ax.plot(p3[-1,0],p3[-1,1],'go')\n",
    "    return ax"
   ]
  },
  {
   "cell_type": "code",
   "execution_count": 208,
   "metadata": {},
   "outputs": [
    {
     "name": "stdout",
     "output_type": "stream",
     "text": [
      "32/32 [==============================] - 0s 2ms/step\n"
     ]
    },
    {
     "data": {
      "text/plain": [
       "[<matplotlib.lines.Line2D at 0x7f7fb98fd400>]"
      ]
     },
     "execution_count": 208,
     "metadata": {},
     "output_type": "execute_result"
    },
    {
     "data": {
      "image/png": "[encoded data removed]",
      "text/plain": [
       "<Figure size 640x480 with 1 Axes>"
      ]
     },
     "metadata": {},
     "output_type": "display_data"
    },
    {
     "data": {
      "image/png": "[encoded data removed]",
      "text/plain": [
       "<Figure size 640x480 with 1 Axes>"
      ]
     },
     "metadata": {},
     "output_type": "display_data"
    }
   ],
   "source": [
    "idx = 0\n",
    "x, y = get_data(idx)\n",
    "pre_trained_model = tf.keras.models.load_model(\"Breen_NN_project2.h5\")\n",
    "prediction = pre_trained_model.predict(x)\n",
    "p1, p2, p3 = get_trajectories(prediction)\n",
    "plot_trajectories(p1, p2, p3);\n",
    "fig, ax = plt.subplots(1,1)\n",
    "ax.plot(cleaned_data[idx,:,1],cleaned_data[idx,:,2],'b')\n",
    "ax.plot(cleaned_data[idx,-1,1],cleaned_data[idx,-1,2],'bo')\n",
    "ax.plot(cleaned_data[idx,:,3],cleaned_data[idx,:,4],'r')\n",
    "ax.plot(cleaned_data[idx,-1,3],cleaned_data[idx,-1,4],'ro')\n",
    "ax.plot(-cleaned_data[idx,:,3]-cleaned_data[idx,:,1],-cleaned_data[idx,:,4]-cleaned_data[idx,:,2],'g')\n",
    "ax.plot(-cleaned_data[idx,-1,3]-cleaned_data[idx,-1,1],-cleaned_data[idx,-1,4]-cleaned_data[idx,-1,2],'go')"
   ]
  },
  {
   "cell_type": "code",
   "execution_count": 296,
   "metadata": {},
   "outputs": [],
   "source": [
    "X = []\n",
    "Y = []\n",
    "\n",
    "for i in range(len(cleaned_data)):\n",
    "    x, y = get_data(i)\n",
    "    X.append(x)\n",
    "    Y.append(y)\n",
    "\n",
    "indices = np.arange(len(X))\n",
    "\n",
    "x_train, x_val, y_train, y_val, indices_train, indices_val = train_test_split(X,Y,indices,train_size=0.9)\n",
    "\n",
    "x_train = np.array(x_train).reshape(-1,3)\n",
    "y_train = np.array(y_train).reshape(-1,4)\n",
    "\n",
    "x_val = np.array(x_val).reshape(-1,3)\n",
    "y_val = np.array(y_val).reshape(-1,4)"
   ]
  },
  {
   "cell_type": "code",
   "execution_count": 297,
   "metadata": {},
   "outputs": [
    {
     "name": "stdout",
     "output_type": "stream",
     "text": [
      "Epoch 1/100\n",
      "100/100 [==============================] - 34s 327ms/step - loss: 0.3321 - mean_absolute_error: 0.3321\n",
      "Epoch 2/100\n",
      "100/100 [==============================] - 35s 354ms/step - loss: 0.2439 - mean_absolute_error: 0.2439\n",
      "Epoch 3/100\n",
      "100/100 [==============================] - 35s 346ms/step - loss: 0.2105 - mean_absolute_error: 0.2105\n",
      "Epoch 4/100\n",
      "100/100 [==============================] - 41s 414ms/step - loss: 0.1940 - mean_absolute_error: 0.1940\n",
      "Epoch 5/100\n",
      "100/100 [==============================] - 28s 280ms/step - loss: 0.1828 - mean_absolute_error: 0.1828\n",
      "Epoch 6/100\n",
      "100/100 [==============================] - 26s 256ms/step - loss: 0.1729 - mean_absolute_error: 0.1729\n",
      "Epoch 7/100\n",
      "100/100 [==============================] - 33s 325ms/step - loss: 0.1667 - mean_absolute_error: 0.1667\n",
      "Epoch 8/100\n",
      "100/100 [==============================] - 32s 319ms/step - loss: 0.1610 - mean_absolute_error: 0.1610\n",
      "Epoch 9/100\n",
      "100/100 [==============================] - 26s 262ms/step - loss: 0.1564 - mean_absolute_error: 0.1564\n",
      "Epoch 10/100\n",
      "100/100 [==============================] - 27s 268ms/step - loss: 0.1517 - mean_absolute_error: 0.1517\n",
      "Epoch 11/100\n",
      "100/100 [==============================] - 27s 266ms/step - loss: 0.1473 - mean_absolute_error: 0.1473\n",
      "Epoch 12/100\n",
      "100/100 [==============================] - 28s 279ms/step - loss: 0.1440 - mean_absolute_error: 0.1440\n",
      "Epoch 13/100\n",
      "100/100 [==============================] - 26s 256ms/step - loss: 0.1408 - mean_absolute_error: 0.1408\n",
      "Epoch 14/100\n",
      "100/100 [==============================] - 25s 253ms/step - loss: 0.1385 - mean_absolute_error: 0.1385\n",
      "Epoch 15/100\n",
      "100/100 [==============================] - 26s 254ms/step - loss: 0.1357 - mean_absolute_error: 0.1357\n",
      "Epoch 16/100\n",
      "100/100 [==============================] - 26s 257ms/step - loss: 0.1323 - mean_absolute_error: 0.1323\n",
      "Epoch 17/100\n",
      "100/100 [==============================] - 28s 278ms/step - loss: 0.1305 - mean_absolute_error: 0.1305\n",
      "Epoch 18/100\n",
      "100/100 [==============================] - 26s 255ms/step - loss: 0.1283 - mean_absolute_error: 0.1283\n",
      "Epoch 19/100\n",
      "100/100 [==============================] - 26s 264ms/step - loss: 0.1258 - mean_absolute_error: 0.1258\n",
      "Epoch 20/100\n",
      "100/100 [==============================] - 26s 261ms/step - loss: 0.1248 - mean_absolute_error: 0.1248\n",
      "Epoch 21/100\n",
      "100/100 [==============================] - 28s 275ms/step - loss: 0.1235 - mean_absolute_error: 0.1235\n",
      "Epoch 22/100\n",
      "100/100 [==============================] - 28s 280ms/step - loss: 0.1210 - mean_absolute_error: 0.1210\n",
      "Epoch 23/100\n",
      "100/100 [==============================] - 29s 294ms/step - loss: 0.1204 - mean_absolute_error: 0.1204\n",
      "Epoch 24/100\n",
      "100/100 [==============================] - 29s 289ms/step - loss: 0.1194 - mean_absolute_error: 0.1194\n",
      "Epoch 25/100\n",
      "100/100 [==============================] - 30s 297ms/step - loss: 0.1179 - mean_absolute_error: 0.1179\n",
      "Epoch 26/100\n",
      "100/100 [==============================] - 26s 261ms/step - loss: 0.1171 - mean_absolute_error: 0.1171\n",
      "Epoch 27/100\n",
      "100/100 [==============================] - 26s 258ms/step - loss: 0.1151 - mean_absolute_error: 0.1151\n",
      "Epoch 28/100\n",
      "100/100 [==============================] - 27s 269ms/step - loss: 0.1155 - mean_absolute_error: 0.1155\n",
      "Epoch 29/100\n",
      "100/100 [==============================] - 37s 369ms/step - loss: 0.1140 - mean_absolute_error: 0.1140\n",
      "Epoch 30/100\n",
      "100/100 [==============================] - 43s 434ms/step - loss: 0.1131 - mean_absolute_error: 0.1131\n",
      "Epoch 31/100\n",
      "100/100 [==============================] - 27s 270ms/step - loss: 0.1116 - mean_absolute_error: 0.1116\n",
      "Epoch 32/100\n",
      "100/100 [==============================] - 33s 327ms/step - loss: 0.1126 - mean_absolute_error: 0.1126\n",
      "Epoch 33/100\n",
      "100/100 [==============================] - 29s 289ms/step - loss: 0.1095 - mean_absolute_error: 0.1095\n",
      "Epoch 34/100\n",
      "100/100 [==============================] - 29s 288ms/step - loss: 0.1086 - mean_absolute_error: 0.1086\n",
      "Epoch 35/100\n",
      "100/100 [==============================] - 27s 274ms/step - loss: 0.1095 - mean_absolute_error: 0.1095\n",
      "Epoch 36/100\n",
      "100/100 [==============================] - 38s 385ms/step - loss: 0.1087 - mean_absolute_error: 0.1087\n",
      "Epoch 37/100\n",
      "100/100 [==============================] - 27s 265ms/step - loss: 0.1073 - mean_absolute_error: 0.1073\n",
      "Epoch 38/100\n",
      "100/100 [==============================] - 27s 266ms/step - loss: 0.1068 - mean_absolute_error: 0.1068\n",
      "Epoch 39/100\n",
      "100/100 [==============================] - 26s 260ms/step - loss: 0.1068 - mean_absolute_error: 0.1068\n",
      "Epoch 40/100\n",
      "100/100 [==============================] - 26s 260ms/step - loss: 0.1059 - mean_absolute_error: 0.1059\n",
      "Epoch 41/100\n",
      "100/100 [==============================] - 26s 260ms/step - loss: 0.1056 - mean_absolute_error: 0.1056\n",
      "Epoch 42/100\n",
      "100/100 [==============================] - 27s 269ms/step - loss: 0.1046 - mean_absolute_error: 0.1046\n",
      "Epoch 43/100\n",
      "100/100 [==============================] - 26s 259ms/step - loss: 0.1043 - mean_absolute_error: 0.1043\n",
      "Epoch 44/100\n",
      "100/100 [==============================] - 26s 260ms/step - loss: 0.1044 - mean_absolute_error: 0.1044\n",
      "Epoch 45/100\n",
      "100/100 [==============================] - 26s 256ms/step - loss: 0.1031 - mean_absolute_error: 0.1031\n",
      "Epoch 46/100\n",
      "100/100 [==============================] - 26s 258ms/step - loss: 0.1039 - mean_absolute_error: 0.1039\n",
      "Epoch 47/100\n",
      "100/100 [==============================] - 26s 257ms/step - loss: 0.1022 - mean_absolute_error: 0.1022\n",
      "Epoch 48/100\n",
      "100/100 [==============================] - 26s 257ms/step - loss: 0.1018 - mean_absolute_error: 0.1018\n",
      "Epoch 49/100\n",
      "100/100 [==============================] - 26s 258ms/step - loss: 0.1015 - mean_absolute_error: 0.1015\n",
      "Epoch 50/100\n",
      "100/100 [==============================] - 26s 260ms/step - loss: 0.1004 - mean_absolute_error: 0.1004\n",
      "Epoch 51/100\n",
      "100/100 [==============================] - 27s 273ms/step - loss: 0.0997 - mean_absolute_error: 0.0997\n",
      "Epoch 52/100\n",
      "100/100 [==============================] - 26s 257ms/step - loss: 0.0997 - mean_absolute_error: 0.0997\n",
      "Epoch 53/100\n",
      "100/100 [==============================] - 26s 255ms/step - loss: 0.0994 - mean_absolute_error: 0.0994\n",
      "Epoch 54/100\n",
      "100/100 [==============================] - 26s 262ms/step - loss: 0.0989 - mean_absolute_error: 0.0989\n",
      "Epoch 55/100\n",
      "100/100 [==============================] - 26s 256ms/step - loss: 0.0991 - mean_absolute_error: 0.0991\n",
      "Epoch 56/100\n",
      "100/100 [==============================] - 26s 258ms/step - loss: 0.0982 - mean_absolute_error: 0.0982\n",
      "Epoch 57/100\n",
      "100/100 [==============================] - 28s 284ms/step - loss: 0.0975 - mean_absolute_error: 0.0975\n",
      "Epoch 58/100\n",
      "100/100 [==============================] - 26s 256ms/step - loss: 0.0967 - mean_absolute_error: 0.0967\n",
      "Epoch 59/100\n",
      "100/100 [==============================] - 26s 256ms/step - loss: 0.0972 - mean_absolute_error: 0.0972\n",
      "Epoch 60/100\n",
      "100/100 [==============================] - 26s 256ms/step - loss: 0.0969 - mean_absolute_error: 0.0969\n",
      "Epoch 61/100\n",
      "100/100 [==============================] - 26s 254ms/step - loss: 0.0960 - mean_absolute_error: 0.0960\n",
      "Epoch 62/100\n",
      "100/100 [==============================] - 27s 268ms/step - loss: 0.0964 - mean_absolute_error: 0.0964\n",
      "Epoch 63/100\n",
      "100/100 [==============================] - 26s 257ms/step - loss: 0.0954 - mean_absolute_error: 0.0954\n",
      "Epoch 64/100\n",
      "100/100 [==============================] - 26s 257ms/step - loss: 0.0943 - mean_absolute_error: 0.0943\n",
      "Epoch 65/100\n",
      "100/100 [==============================] - 26s 258ms/step - loss: 0.0939 - mean_absolute_error: 0.0939\n",
      "Epoch 66/100\n",
      "100/100 [==============================] - 26s 258ms/step - loss: 0.0940 - mean_absolute_error: 0.0940\n",
      "Epoch 67/100\n",
      "100/100 [==============================] - 26s 257ms/step - loss: 0.0948 - mean_absolute_error: 0.0948\n",
      "Epoch 68/100\n",
      "100/100 [==============================] - 26s 258ms/step - loss: 0.0929 - mean_absolute_error: 0.0929\n",
      "Epoch 69/100\n",
      "100/100 [==============================] - 26s 257ms/step - loss: 0.0932 - mean_absolute_error: 0.0932\n",
      "Epoch 70/100\n",
      "100/100 [==============================] - 27s 272ms/step - loss: 0.0928 - mean_absolute_error: 0.0928\n",
      "Epoch 71/100\n",
      "100/100 [==============================] - 26s 256ms/step - loss: 0.0930 - mean_absolute_error: 0.0930\n",
      "Epoch 72/100\n",
      "100/100 [==============================] - 26s 256ms/step - loss: 0.0919 - mean_absolute_error: 0.0919\n",
      "Epoch 73/100\n",
      "100/100 [==============================] - 26s 257ms/step - loss: 0.0922 - mean_absolute_error: 0.0922\n",
      "Epoch 74/100\n",
      "100/100 [==============================] - 26s 263ms/step - loss: 0.0912 - mean_absolute_error: 0.0912\n",
      "Epoch 75/100\n",
      "100/100 [==============================] - 26s 257ms/step - loss: 0.0912 - mean_absolute_error: 0.0912\n",
      "Epoch 76/100\n",
      "100/100 [==============================] - 26s 259ms/step - loss: 0.0913 - mean_absolute_error: 0.0913\n",
      "Epoch 77/100\n",
      "100/100 [==============================] - 26s 262ms/step - loss: 0.0902 - mean_absolute_error: 0.0902\n",
      "Epoch 78/100\n",
      "100/100 [==============================] - 26s 258ms/step - loss: 0.0909 - mean_absolute_error: 0.0909\n",
      "Epoch 79/100\n",
      "100/100 [==============================] - 26s 257ms/step - loss: 0.0908 - mean_absolute_error: 0.0908\n",
      "Epoch 80/100\n",
      "100/100 [==============================] - 26s 260ms/step - loss: 0.0900 - mean_absolute_error: 0.0900\n",
      "Epoch 81/100\n",
      "100/100 [==============================] - 26s 258ms/step - loss: 0.0892 - mean_absolute_error: 0.0892\n",
      "Epoch 82/100\n",
      "100/100 [==============================] - 26s 260ms/step - loss: 0.0886 - mean_absolute_error: 0.0886\n",
      "Epoch 83/100\n",
      "100/100 [==============================] - 26s 261ms/step - loss: 0.0881 - mean_absolute_error: 0.0881\n",
      "Epoch 84/100\n",
      "100/100 [==============================] - 28s 282ms/step - loss: 0.0886 - mean_absolute_error: 0.0886\n",
      "Epoch 85/100\n",
      "100/100 [==============================] - 26s 257ms/step - loss: 0.0879 - mean_absolute_error: 0.0879\n",
      "Epoch 86/100\n",
      "100/100 [==============================] - 26s 259ms/step - loss: 0.0876 - mean_absolute_error: 0.0876\n",
      "Epoch 87/100\n",
      "100/100 [==============================] - 26s 259ms/step - loss: 0.0881 - mean_absolute_error: 0.0881\n",
      "Epoch 88/100\n",
      "100/100 [==============================] - 26s 257ms/step - loss: 0.0875 - mean_absolute_error: 0.0875\n",
      "Epoch 89/100\n",
      "100/100 [==============================] - 26s 257ms/step - loss: 0.0869 - mean_absolute_error: 0.0869\n",
      "Epoch 90/100\n",
      "100/100 [==============================] - 27s 267ms/step - loss: 0.0858 - mean_absolute_error: 0.0858\n",
      "Epoch 91/100\n",
      "100/100 [==============================] - 26s 258ms/step - loss: 0.0866 - mean_absolute_error: 0.0866\n",
      "Epoch 92/100\n",
      "100/100 [==============================] - 26s 258ms/step - loss: 0.0865 - mean_absolute_error: 0.0865\n",
      "Epoch 93/100\n",
      "100/100 [==============================] - 26s 259ms/step - loss: 0.0856 - mean_absolute_error: 0.0856\n",
      "Epoch 94/100\n",
      "100/100 [==============================] - 26s 257ms/step - loss: 0.0853 - mean_absolute_error: 0.0853\n",
      "Epoch 95/100\n",
      "100/100 [==============================] - 26s 259ms/step - loss: 0.0853 - mean_absolute_error: 0.0853\n",
      "Epoch 96/100\n",
      "100/100 [==============================] - 26s 256ms/step - loss: 0.0857 - mean_absolute_error: 0.0857\n",
      "Epoch 97/100\n",
      "100/100 [==============================] - 26s 259ms/step - loss: 0.0861 - mean_absolute_error: 0.0861\n",
      "Epoch 98/100\n",
      "100/100 [==============================] - 26s 258ms/step - loss: 0.0848 - mean_absolute_error: 0.0848\n",
      "Epoch 99/100\n",
      "100/100 [==============================] - 27s 274ms/step - loss: 0.0851 - mean_absolute_error: 0.0851\n",
      "Epoch 100/100\n",
      "100/100 [==============================] - 26s 262ms/step - loss: 0.0855 - mean_absolute_error: 0.0855\n"
     ]
    }
   ],
   "source": [
    "train_dataset = tf.data.Dataset.from_tensor_slices((x_train, y_train))\n",
    "train_dataset = train_dataset.batch(68000,drop_remainder=True)\n",
    "\n",
    "val_dataset = tf.data.Dataset.from_tensor_slices((x_test, y_test))\n",
    "val_dataset = val_dataset.batch(68000,drop_remainder=True)\n",
    "\n",
    "\n",
    "model = keras.Sequential()\n",
    "\n",
    "model.add(keras.layers.Flatten(input_shape=(3,)))\n",
    "model.add(keras.layers.Dense(64, activation=\"relu\"))\n",
    "model.add(keras.layers.Dense(64, activation=\"relu\"))\n",
    "model.add(keras.layers.Dense(64, activation=\"relu\"))\n",
    "model.add(keras.layers.Dense(64, activation=\"relu\"))\n",
    "model.add(keras.layers.Dense(64, activation=\"relu\"))\n",
    "model.add(keras.layers.Dense(4, activation=\"linear\"))\n",
    "\n",
    "optimizer=keras.optimizers.Adam(0.001, 0.5, 0.5)\n",
    "loss=keras.losses.MeanAbsoluteError()\n",
    "model.compile(loss = loss,optimizer = optimizer, metrics = ['mean_absolute_error'])\n",
    "model.fit(train_dataset, epochs=100, validation_data = val_dataset)\n",
    "model.save(\"my_model.keras\")"
   ]
  },
  {
   "cell_type": "code",
   "execution_count": 305,
   "metadata": {},
   "outputs": [
    {
     "name": "stdout",
     "output_type": "stream",
     "text": [
      "32/32 [==============================] - 0s 2ms/step\n",
      "32/32 [==============================] - 0s 2ms/step\n"
     ]
    },
    {
     "data": {
      "text/plain": [
       "<Axes: >"
      ]
     },
     "execution_count": 305,
     "metadata": {},
     "output_type": "execute_result"
    },
    {
     "data": {
      "image/png": "[encoded data removed]",
      "text/plain": [
       "<Figure size 640x480 with 1 Axes>"
      ]
     },
     "metadata": {},
     "output_type": "display_data"
    },
    {
     "data": {
      "image/png": "[encoded data removed]",
      "text/plain": [
       "<Figure size 640x480 with 1 Axes>"
      ]
     },
     "metadata": {},
     "output_type": "display_data"
    }
   ],
   "source": [
    "idx = indices_val[6]\n",
    "x_lab, y_lab = get_data(idx)\n",
    "\n",
    "predictions = pre_trained_model.predict(x_lab)\n",
    "p1, p2, p3 = get_trajectories(predictions)\n",
    "plot_trajectories(p1,p2,p3)\n",
    "\n",
    "predictions = model.predict(x_lab)\n",
    "p1, p2, p3 = get_trajectories(predictions)\n",
    "plot_trajectories(p1,p2,p3)"
   ]
  },
  {
   "cell_type": "markdown",
   "metadata": {},
   "source": [
    "## Optional: Part 2 (extra task)\n",
    "* Create a helper function that extracts the velocity at each time step.\n",
    "* Compute the potential energy and the kinetic energy at each time step. The units are chosen such that the total energy is just the sum of these two.\n",
    "* Check for the conservation of energy in: (i) the data generated by `Brutus` (note that the velocities are given in the last few columns of the data file); (ii) the pre-trained model from the paper; (iii) your ANN model.\n",
    "* Create a custom loss function and re-train your model to be trained (constrained) by energy conservation. (Unfortunately, you should not expect any significant improvement in the model with the energy-conserving loss function.)\n",
    "* Reproduce Fig. 6 (with the green line being replaced by your energy-conserving ANN). "
   ]
  },
  {
   "cell_type": "markdown",
   "metadata": {},
   "source": [
    "### Comments and hints"
   ]
  },
  {
   "cell_type": "markdown",
   "metadata": {},
   "source": [
    "* You should probably define helper functions that compute potential energies, velocities and kinetic energies for points along a trajectory. Note that the masses start from rest.\n",
    "* In order to construct a `tensorflow` custom loss you will need `@tf.function()` versions of the same helper functions. Within these you can only use `tensforflow` methods such as: `tf.concat()` and `tf.math.sqrt()` (i.e., `numpy` methods cannot be used for these functions). \n",
    "* See (suggested) `tensorflow` helper functions docstrings below. \n",
    "* You can define a custom loss function that assumes a batch size that is equal to the number of time steps in a trajectory. You should also make sure that the data is not shuffled so that a batch always corresponds to a trajectory. Then you can use a global time array to be used to extract velocities and therefore kinetic energies.\n",
    "* See a suggested structure of the custom loss below. You might get problems with very large kinetic and potential energies for trajectories with close encounters. A suggestion is to clip very large values of `energy_error` in the return statement of the custom energy loss by `tf.clip_by_value(energy_error, -1e6, 1e6)`. \n",
    "* The custom loss is then used in `model.compile()` via the argument `loss=custom_energy_loss`."
   ]
  },
  {
   "cell_type": "markdown",
   "metadata": {},
   "source": [
    "#### Helper function docstrings\n",
    "The following are just suggestions. You are allowed to construct a solution using your own helper functions."
   ]
  },
  {
   "cell_type": "code",
   "execution_count": 2,
   "metadata": {},
   "outputs": [],
   "source": [
    "import tensorflow as tf\n",
    "from tensorflow import keras\n",
    "\n",
    "@tf.function()\n",
    "def tf_ediff1d(a):\n",
    "    \"\"\"\n",
    "    TensorFlow equivalent of 1D difference.\n",
    "    \n",
    "    Args:\n",
    "        a (array): A TensorFlow array of dimension (N, 1)\n",
    "        \n",
    "    Returns:\n",
    "        diff (array): An array which gives the difference of successive elements of a.\n",
    "    \"\"\"\n",
    "    raise NotImplementedError\n",
    "\n",
    "@tf.function()\n",
    "def tf_compute_velocities(t, p):\n",
    "    \"\"\"\n",
    "    Computes the velocities of the particles from the trajectories starting from rest.\n",
    "    \n",
    "    Args:\n",
    "        t (array[float]): An array of shape (N, 1) giving time steps.\n",
    "        p (array): An array of dimension (N, 2) where N is the number \n",
    "                   of time steps and the two columns give the coordinates\n",
    "                   of the particle.\n",
    "                             \n",
    "    Returns:\n",
    "        v (array): An array of dimension (N, 2) where N is the number \n",
    "                   of time steps and the two columns for each array give \n",
    "                   the x and y components for the instantaneous velocity\n",
    "                   of the particle.\n",
    "    \"\"\"\n",
    "    raise NotImplementedError\n",
    "\n",
    "@tf.function()\n",
    "def tf_compute_kinetic_energy(v):\n",
    "    \"\"\"\n",
    "    Computes the kinetic energy for the given velocity vectors\n",
    "    \n",
    "    Args:\n",
    "        v (array): A (N,2) array of veolcities for N time steps.\n",
    "        \n",
    "    Returns:\n",
    "        ke (array): An array of shape (N, 1) giving the kinetic energies at each time step.\n",
    "    \"\"\"\n",
    "    raise NotImplementedError\n",
    "\n",
    "@tf.function()\n",
    "def tf_compute_potential_energy(p1, p2, p3):\n",
    "    \"\"\"\n",
    "    Computes the potential energy for the given position vectors. The value of the \n",
    "    gravitational constant is taken as 1 (G=1). The masses are the same value (m=1)\n",
    "    \n",
    "    Args:\n",
    "        p1, p2, p3 (tuple of arrays): Three arrays of dimensions (N, 2) where N is the number \n",
    "                             of time steps and the two columns for each array give \n",
    "                             the positions of the three particles (p1, p2, p3)\n",
    "                             \n",
    "    Returns\n",
    "        pe (array): An array of shape(N, 1) giving the potential energy at each time step\n",
    "        \n",
    "    \"\"\"\n",
    "    raise NotImplementedError"
   ]
  },
  {
   "cell_type": "code",
   "execution_count": 4,
   "metadata": {},
   "outputs": [],
   "source": [
    "# Suggested structure of the custom loss function\n",
    "tlist = ... # Which will be used in the custom loss\n",
    "\n",
    "def custom_loss(y, y_pred):\n",
    "    \"\"\"\n",
    "    A custom loss function computing error in energy conservation.\n",
    "    \"\"\"\n",
    "    predicted_positions = ... # Obtained from y_pred\n",
    "    predicted_velocities = ... # Obtained from predicted_positions, tlist\n",
    "\n",
    "    initial_potential_energy = ... # Obtained from positions (y)\n",
    "\n",
    "    ke_predicted_trajectory = ...# Obtained from predicted_velocities\n",
    "    pe_predicted_trajectory = ... # Obtained from predicted_positions\n",
    "\n",
    "    error = (ke_predicted_trajectory + pe_predicted_trajectory -\n",
    "                 initial_potential_energy)\n",
    "\n",
    "    energy_loss = tf.reduce_mean(tf.abs(error))\n",
    "    # The relative weight ofthe two terms in the custom loss might be tuned.\n",
    "    return tf.keras.losses.MeanAbsoluteError()(y, y_pred) + 0.001*energy_loss"
   ]
  },
  {
   "cell_type": "code",
   "execution_count": 147,
   "metadata": {},
   "outputs": [
    {
     "name": "stdout",
     "output_type": "stream",
     "text": [
      "(2, 4)\n",
      "[[1 2 3 4]\n",
      " [4 5 6 5]]\n",
      "(2, 3)\n"
     ]
    }
   ],
   "source": [
    "a = np.array([[1,2,3,4],[4,5,6,5]])\n",
    "print(a.shape)\n",
    "print(a)\n",
    "print(a[:,[1,2,3]].shape)"
   ]
  },
  {
   "cell_type": "code",
   "execution_count": null,
   "metadata": {},
   "outputs": [],
   "source": []
  }
 ],
 "metadata": {
  "kernelspec": {
   "display_name": "Python 3 (ipykernel)",
   "language": "python",
   "name": "python3"
  },
  "language_info": {
   "codemirror_mode": {
    "name": "ipython",
    "version": 3
   },
   "file_extension": ".py",
   "mimetype": "text/x-python",
   "name": "python",
   "nbconvert_exporter": "python",
   "pygments_lexer": "ipython3",
   "version": "3.8.17"
  }
 },
 "nbformat": 4,
 "nbformat_minor": 4
}
